{
 "cells": [
  {
   "cell_type": "code",
   "execution_count": null,
   "metadata": {},
   "outputs": [],
   "source": [
    "import os\n",
    "from os import path \n",
    "folders=os.listdir(\"A:\\\\Coding\\\\ML\\\\Artist-classification\\\\dataset\")\n",
    "main=\"A:\\\\Coding\\\\ML\\\\Artist-classification\\\\dataset\"\n",
    "\n",
    "for f in folders:\n",
    "    f_path=main+\"\\\\\"+f\n",
    "    if os.path.isdir(f_path):\n",
    "        names=os.listdir(f_path)\n",
    "        count=0\n",
    "        for n in names:\n",
    "            s=str(count)+\".jpg\"\n",
    "            os.rename(f_path+\"\\\\\"+n,f_path+\"\\\\\"+s)\n",
    "            count=count+1\n",
    "            print(s)"
   ]
  }
 ],
 "metadata": {
  "interpreter": {
   "hash": "62c8fc6d722d4afc75b15857b773db8404a0e11d56ca85df43ebf9650681f3f6"
  },
  "kernelspec": {
   "display_name": "Python 3.8.11 64-bit ('ml-learn': conda)",
   "language": "python",
   "name": "python3"
  },
  "language_info": {
   "codemirror_mode": {
    "name": "ipython",
    "version": 3
   },
   "file_extension": ".py",
   "mimetype": "text/x-python",
   "name": "python",
   "nbconvert_exporter": "python",
   "pygments_lexer": "ipython3",
   "version": "3.8.11"
  },
  "orig_nbformat": 4
 },
 "nbformat": 4,
 "nbformat_minor": 2
}
